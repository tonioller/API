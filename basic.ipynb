{
  "nbformat": 4,
  "nbformat_minor": 0,
  "metadata": {
    "colab": {
      "provenance": [],
      "authorship_tag": "ABX9TyPjwonGYYM0pylXsbWjAVSR",
      "include_colab_link": true
    },
    "kernelspec": {
      "name": "python3",
      "display_name": "Python 3"
    },
    "language_info": {
      "name": "python"
    }
  },
  "cells": [
    {
      "cell_type": "markdown",
      "metadata": {
        "id": "view-in-github",
        "colab_type": "text"
      },
      "source": [
        "<a href=\"https://colab.research.google.com/github/tonioller/API/blob/master/basic.ipynb\" target=\"_parent\"><img src=\"https://colab.research.google.com/assets/colab-badge.svg\" alt=\"Open In Colab\"/></a>"
      ]
    },
    {
      "cell_type": "markdown",
      "source": [
        "B2. Programación básica I: Condiciones y bucles\n",
        "\n"
      ],
      "metadata": {
        "id": "-rFQ8p2CGY4V"
      }
    },
    {
      "cell_type": "markdown",
      "source": [
        "**OPERADORES**"
      ],
      "metadata": {
        "id": "SNVp3x8Rax8j"
      }
    },
    {
      "cell_type": "markdown",
      "source": [
        "Operadores aritméticos"
      ],
      "metadata": {
        "id": "b3O8nwg_XqLN"
      }
    },
    {
      "cell_type": "code",
      "source": [
        "x = 15\n",
        "y = 2\n",
        "\n",
        "print(\"x + y:\", x + y)\n",
        "print(\"x - y:\", x - y)\n",
        "print(\"y^2:\", y ** 2)\n",
        "print(\"x % 2:\", x % 5)\n",
        "print(\"x / y:\", x / y)\n",
        "print(\"x // y:\", x // y)"
      ],
      "metadata": {
        "colab": {
          "base_uri": "https://localhost:8080/"
        },
        "id": "H8JLzaRATe3P",
        "outputId": "ba9e544d-56a4-474a-9923-1c4e980ee8a7"
      },
      "execution_count": 47,
      "outputs": [
        {
          "output_type": "stream",
          "name": "stdout",
          "text": [
            "x + y: 17\n",
            "x - y: 13\n",
            "y^2: 4\n",
            "x % 2: 0\n",
            "x / y: 7.5\n",
            "x // y: 7\n"
          ]
        }
      ]
    },
    {
      "cell_type": "markdown",
      "source": [
        "Operadores de comparación"
      ],
      "metadata": {
        "id": "jjowSROPYOqM"
      }
    },
    {
      "cell_type": "code",
      "source": [
        "x = 5\n",
        "y = 3\n",
        "\n",
        "print(\"x == y\", x == y)\n",
        "print(\"x != y\", x != y)\n",
        "print(\"x > y\", x > y)\n",
        "print(\"x < y\", x < y)\n",
        "print(\"x >= y\", x >= y)\n",
        "print(\"x <= y\", x <= y)"
      ],
      "metadata": {
        "colab": {
          "base_uri": "https://localhost:8080/"
        },
        "id": "AXvLv5W7ZZm9",
        "outputId": "52ccf24b-029f-4c00-af1c-7f2282735fc8"
      },
      "execution_count": 48,
      "outputs": [
        {
          "output_type": "stream",
          "name": "stdout",
          "text": [
            "x == y False\n",
            "x != y True\n",
            "x > y True\n",
            "x < y False\n",
            "x >= y True\n",
            "x <= y False\n"
          ]
        }
      ]
    },
    {
      "cell_type": "markdown",
      "source": [
        "Comparadores lógicos"
      ],
      "metadata": {
        "id": "rMWhzNoBaZnK"
      }
    },
    {
      "cell_type": "code",
      "source": [
        "x = 8\n",
        "\n",
        "print(x > 3 and x < 10)\n",
        "\n",
        "\n",
        "print(x > 3 or x < 4)\n",
        "\n",
        "x = 6\n",
        "\n",
        "print(not(x > 3 and x < 10))"
      ],
      "metadata": {
        "colab": {
          "base_uri": "https://localhost:8080/"
        },
        "id": "lVP1dbK2ado4",
        "outputId": "7d49fd3b-b9db-46ef-9464-6aa679676d46"
      },
      "execution_count": 49,
      "outputs": [
        {
          "output_type": "stream",
          "name": "stdout",
          "text": [
            "True\n",
            "True\n",
            "False\n"
          ]
        }
      ]
    },
    {
      "cell_type": "markdown",
      "source": [
        "Operadores de pertenencia"
      ],
      "metadata": {
        "id": "q6E-Jb2Pa4UL"
      }
    },
    {
      "cell_type": "code",
      "source": [
        "x = [\"apple\", \"banana\", \"olives\"]\n",
        "\n",
        "print(\"banana\" in x)\n",
        "print(\"patata\" not in x)\n",
        "print(\"banana\" not in x)\n",
        "\n"
      ],
      "metadata": {
        "colab": {
          "base_uri": "https://localhost:8080/"
        },
        "id": "t6kG08DoUyqE",
        "outputId": "6f607c33-9f31-418f-b376-ef70ae27b332"
      },
      "execution_count": 50,
      "outputs": [
        {
          "output_type": "stream",
          "name": "stdout",
          "text": [
            "True\n",
            "True\n",
            "False\n"
          ]
        }
      ]
    },
    {
      "cell_type": "markdown",
      "source": [
        "\n",
        "\n",
        "---\n",
        "\n"
      ],
      "metadata": {
        "id": "aNU0WREbh6sp"
      }
    },
    {
      "cell_type": "markdown",
      "source": [
        "**Condiciones**"
      ],
      "metadata": {
        "id": "LwgDiLAkOIYF"
      }
    },
    {
      "cell_type": "code",
      "source": [
        "a = 50\n",
        "b = 10\n",
        "\n",
        "if b > a:\n",
        "  print(b, \"es más grande que\", a)\n",
        "else:\n",
        "  print(b, \"es más pequeño que\", b)\n",
        "\n",
        "a = 22\n",
        "b = 100\n",
        "\n",
        "if b > a:\n",
        "  print(b, \"es más grande que\", a)\n",
        "else:\n",
        "  print(b, \"es más pequeño que\", a)\n",
        "\n"
      ],
      "metadata": {
        "colab": {
          "base_uri": "https://localhost:8080/"
        },
        "id": "8QO7SVIWOO6X",
        "outputId": "148d1d39-7a88-4bc1-baa4-0207315d4bf2"
      },
      "execution_count": 51,
      "outputs": [
        {
          "output_type": "stream",
          "name": "stdout",
          "text": [
            "10 es más pequeño que 10\n",
            "100 es más grande que 22\n"
          ]
        }
      ]
    },
    {
      "cell_type": "code",
      "source": [
        "print(\"Enter a number: \")\n",
        "xString = input()\n",
        "x = int(xString)\n",
        "if x % 2 == 0:\n",
        "    print(x, \"es un número par\")\n",
        "elif x == 0:\n",
        "    print(x, \"es igual a 0\")\n",
        "else:\n",
        "    print(x, \"es un número impar\")\n"
      ],
      "metadata": {
        "colab": {
          "base_uri": "https://localhost:8080/"
        },
        "id": "lw0C26NRQEX5",
        "outputId": "aa31410e-1f30-4abf-9043-393f778a299b"
      },
      "execution_count": 52,
      "outputs": [
        {
          "output_type": "stream",
          "name": "stdout",
          "text": [
            "Enter a number: \n",
            "34\n",
            "34 es un número par\n"
          ]
        }
      ]
    },
    {
      "cell_type": "markdown",
      "source": [
        "\n",
        "\n",
        "---\n",
        "\n"
      ],
      "metadata": {
        "id": "szHrD_hTh0Ms"
      }
    },
    {
      "cell_type": "markdown",
      "source": [
        "# **Ex1**\n",
        "ejemplos sobre condiciones"
      ],
      "metadata": {
        "id": "SdoWssr-YR8T"
      }
    },
    {
      "cell_type": "code",
      "execution_count": 53,
      "metadata": {
        "colab": {
          "base_uri": "https://localhost:8080/"
        },
        "id": "dR3xKvsF_GQR",
        "outputId": "67eb764a-3815-4cb5-c431-acca8873d56b"
      },
      "outputs": [
        {
          "output_type": "stream",
          "name": "stdout",
          "text": [
            "Quin número creus que és?. En cas de voler abandonar escriu -1\n",
            "23\n",
            "El nombre que cerques és més gran\n",
            "Quin número creus que és?. En cas de voler abandonar escriu -1\n",
            "80\n",
            "El nombre que cerques és més gran\n",
            "Quin número creus que és?. En cas de voler abandonar escriu -1\n",
            "86\n",
            "El nombre que cerques és més gran\n",
            "Quin número creus que és?. En cas de voler abandonar escriu -1\n",
            "88\n",
            "El nombre que cerques és més gran\n",
            "Quin número creus que és?. En cas de voler abandonar escriu -1\n",
            "89\n",
            "El nombre que cerques és més gran\n",
            "Quin número creus que és?. En cas de voler abandonar escriu -1\n",
            "96\n",
            "El nombre que cerques és més petit\n",
            "Quin número creus que és?. En cas de voler abandonar escriu -1\n",
            "95\n",
            "El nombre que cerques és més petit\n",
            "Quin número creus que és?. En cas de voler abandonar escriu -1\n",
            "92\n",
            "Ho has encertat era el 92!!\n"
          ]
        }
      ],
      "source": [
        "import random\n",
        "\n",
        "#random.seed(6)\n",
        "\n",
        "theNumber=random.randint(1, 100);\n",
        "\n",
        "\n",
        "end = False;\n",
        "\n",
        "while not(end) :\n",
        "    print(\"Quin número creus que és?. En cas de voler abandonar escriu -1\");\n",
        "    n = int(input());\n",
        "\n",
        "    if (n<0) :\n",
        "        print(\"Gràcies per participar. Fins aviat\");\n",
        "        end = True;\n",
        "    elif (n < theNumber):\n",
        "        print(\"El nombre que cerques és més gran\");\n",
        "    elif (n > theNumber):\n",
        "        print(\"El nombre que cerques és més petit\");\n",
        "    elif (n == theNumber):\n",
        "        print(F\"Ho has encertat era el {theNumber}!!\")\n",
        "        end = True;\n"
      ]
    },
    {
      "cell_type": "markdown",
      "source": [
        "## **Bucles**"
      ],
      "metadata": {
        "id": "rODC-upiLVtp"
      }
    },
    {
      "cell_type": "markdown",
      "source": [
        "**The while Loop**"
      ],
      "metadata": {
        "id": "ZDIKZel3Ldb8"
      }
    },
    {
      "cell_type": "code",
      "source": [
        "i = 0\n",
        "while i < 6:\n",
        "  print(i)\n",
        "  i += 1"
      ],
      "metadata": {
        "colab": {
          "base_uri": "https://localhost:8080/"
        },
        "id": "EPhjSKE2Mpa2",
        "outputId": "f0f43266-7fcb-4ec0-b24b-e3d9c8a818bc"
      },
      "execution_count": 54,
      "outputs": [
        {
          "output_type": "stream",
          "name": "stdout",
          "text": [
            "0\n",
            "1\n",
            "2\n",
            "3\n",
            "4\n",
            "5\n"
          ]
        }
      ]
    },
    {
      "cell_type": "markdown",
      "source": [
        "**The while loop - Break**"
      ],
      "metadata": {
        "id": "7SXKhQA9NDiT"
      }
    },
    {
      "cell_type": "code",
      "source": [
        "i = 0\n",
        "while i < 6:\n",
        "  print(i)\n",
        "  if (i == 4):\n",
        "    break\n",
        "  i += 1"
      ],
      "metadata": {
        "colab": {
          "base_uri": "https://localhost:8080/"
        },
        "id": "C90vfAkZM_zB",
        "outputId": "8ba33f2b-c700-4fde-d592-b6840923f22e"
      },
      "execution_count": 55,
      "outputs": [
        {
          "output_type": "stream",
          "name": "stdout",
          "text": [
            "0\n",
            "1\n",
            "2\n",
            "3\n",
            "4\n"
          ]
        }
      ]
    },
    {
      "cell_type": "markdown",
      "source": [
        "**The while loop - continue**"
      ],
      "metadata": {
        "id": "PndlrBKPNa0v"
      }
    },
    {
      "cell_type": "code",
      "source": [
        "i = 0\n",
        "while i < 6:\n",
        "  i += 1\n",
        "  if i == 3:\n",
        "    continue\n",
        "  print(i)"
      ],
      "metadata": {
        "colab": {
          "base_uri": "https://localhost:8080/"
        },
        "id": "K8ZYFWgWNSHg",
        "outputId": "876a5615-c1b0-4c2f-e212-6ff0b0b40cef"
      },
      "execution_count": 56,
      "outputs": [
        {
          "output_type": "stream",
          "name": "stdout",
          "text": [
            "1\n",
            "2\n",
            "4\n",
            "5\n",
            "6\n"
          ]
        }
      ]
    },
    {
      "cell_type": "markdown",
      "source": [
        "**The while loop - else**"
      ],
      "metadata": {
        "id": "hIwJSEouNyDr"
      }
    },
    {
      "cell_type": "code",
      "source": [
        "i = 0\n",
        "while i < 6:\n",
        "  print(i)\n",
        "  i += 1\n",
        "else:\n",
        "  print(\"i is no longer less than 6\")"
      ],
      "metadata": {
        "colab": {
          "base_uri": "https://localhost:8080/"
        },
        "id": "IK2GpjU1Nv-N",
        "outputId": "3cac46c9-2945-4990-91cd-42df280419dc"
      },
      "execution_count": 57,
      "outputs": [
        {
          "output_type": "stream",
          "name": "stdout",
          "text": [
            "0\n",
            "1\n",
            "2\n",
            "3\n",
            "4\n",
            "5\n",
            "i is no longer less than 6\n"
          ]
        }
      ]
    },
    {
      "cell_type": "markdown",
      "source": [
        "**For loop - range**"
      ],
      "metadata": {
        "id": "9n3iubUef2cJ"
      }
    },
    {
      "cell_type": "code",
      "source": [
        "for i in range(0, 15):\n",
        "  print(i)"
      ],
      "metadata": {
        "colab": {
          "base_uri": "https://localhost:8080/"
        },
        "id": "1GpB61QxK5HB",
        "outputId": "5a687b11-eb60-47ba-fe96-edd0ed09d227"
      },
      "execution_count": 58,
      "outputs": [
        {
          "output_type": "stream",
          "name": "stdout",
          "text": [
            "0\n",
            "1\n",
            "2\n",
            "3\n",
            "4\n",
            "5\n",
            "6\n",
            "7\n",
            "8\n",
            "9\n",
            "10\n",
            "11\n",
            "12\n",
            "13\n",
            "14\n"
          ]
        }
      ]
    },
    {
      "cell_type": "markdown",
      "source": [
        "**For loop - range II**"
      ],
      "metadata": {
        "id": "-7UqPnBzMki6"
      }
    },
    {
      "cell_type": "code",
      "source": [
        "for i in range(0,15,2):\n",
        "  print(i)"
      ],
      "metadata": {
        "colab": {
          "base_uri": "https://localhost:8080/"
        },
        "id": "2FBzq_jdLFMi",
        "outputId": "3646d3b5-73c1-4dd3-a8df-beaaa5c95253"
      },
      "execution_count": 59,
      "outputs": [
        {
          "output_type": "stream",
          "name": "stdout",
          "text": [
            "0\n",
            "2\n",
            "4\n",
            "6\n",
            "8\n",
            "10\n",
            "12\n",
            "14\n"
          ]
        }
      ]
    },
    {
      "cell_type": "markdown",
      "source": [
        "\n",
        "\n",
        "---\n",
        "\n"
      ],
      "metadata": {
        "id": "-1TQo20SiD-k"
      }
    },
    {
      "cell_type": "markdown",
      "source": [
        "**List Comprehension vs. Loops**"
      ],
      "metadata": {
        "id": "E2G9X-KpgNhT"
      }
    },
    {
      "cell_type": "code",
      "source": [
        "temperatures = [22, 24, 19, 24, 27, 29, 25]\n",
        "above_25 = [temp for temp in temperatures if temp > 25]\n",
        "above_25"
      ],
      "metadata": {
        "colab": {
          "base_uri": "https://localhost:8080/"
        },
        "id": "lfWTj4euGZJT",
        "outputId": "e5d63f17-4021-4676-bfc1-5d6dfd320a59"
      },
      "execution_count": 60,
      "outputs": [
        {
          "output_type": "execute_result",
          "data": {
            "text/plain": [
              "[27, 29]"
            ]
          },
          "metadata": {},
          "execution_count": 60
        }
      ]
    },
    {
      "cell_type": "code",
      "source": [
        "temperatures = [22, 24, 19, 24, 27, 29, 25]\n",
        "out=[]\n",
        "for temp in temperatures:\n",
        "  if temp >25:\n",
        "    out.append(temp)\n",
        "out"
      ],
      "metadata": {
        "colab": {
          "base_uri": "https://localhost:8080/"
        },
        "id": "D_SW2tKLGru2",
        "outputId": "b6054d1b-fd51-4233-f44c-4193c4f75bc0"
      },
      "execution_count": 64,
      "outputs": [
        {
          "output_type": "execute_result",
          "data": {
            "text/plain": [
              "[27, 29]"
            ]
          },
          "metadata": {},
          "execution_count": 64
        }
      ]
    },
    {
      "cell_type": "markdown",
      "source": [
        "**List Comprehension vs. Loops - II**"
      ],
      "metadata": {
        "id": "Nat4TGqFggaK"
      }
    },
    {
      "cell_type": "code",
      "source": [
        "fruits = [\"apple\", \"banana\", \"cherry\", \"kiwi\", \"mango\"]\n",
        "\n",
        "newlist = [x for x in fruits if \"a\" in x]\n",
        "newlist"
      ],
      "metadata": {
        "colab": {
          "base_uri": "https://localhost:8080/"
        },
        "id": "fCw6_wqUg1pY",
        "outputId": "93f14176-bb9b-4738-f5b3-ad835b45e1d5"
      },
      "execution_count": 73,
      "outputs": [
        {
          "output_type": "execute_result",
          "data": {
            "text/plain": [
              "['apple', 'banana', 'mango']"
            ]
          },
          "metadata": {},
          "execution_count": 73
        }
      ]
    },
    {
      "cell_type": "code",
      "source": [
        "fruits = [\"apple\", \"banana\", \"cherry\", \"kiwi\", \"mango\"]\n",
        "newlist = []\n",
        "\n",
        "for x in fruits:\n",
        "  if \"a\" in x:\n",
        "    newlist.append(x)\n",
        "\n",
        "print(newlist)\n",
        "\n",
        "\n"
      ],
      "metadata": {
        "colab": {
          "base_uri": "https://localhost:8080/"
        },
        "id": "E8ZvMt5uI7uy",
        "outputId": "c618eca0-5785-45e7-da0d-b99251a64aa7"
      },
      "execution_count": 61,
      "outputs": [
        {
          "output_type": "stream",
          "name": "stdout",
          "text": [
            "['apple', 'banana', 'mango']\n"
          ]
        }
      ]
    },
    {
      "cell_type": "code",
      "source": [
        "fruits = [\"apple\", \"banana\", \"cherry\", \"kiwi\", \"mango\"]\n",
        "newlist = []\n",
        "fruits[2:4]\n"
      ],
      "metadata": {
        "colab": {
          "base_uri": "https://localhost:8080/"
        },
        "id": "hKbQFkzkJy5T",
        "outputId": "6188f255-c9a1-480e-8a85-fbedbbb009de"
      },
      "execution_count": 62,
      "outputs": [
        {
          "output_type": "execute_result",
          "data": {
            "text/plain": [
              "['cherry', 'kiwi']"
            ]
          },
          "metadata": {},
          "execution_count": 62
        }
      ]
    },
    {
      "cell_type": "code",
      "source": [
        "fruits = [\"apple\", \"banana\", \"cherry\", \"kiwi\", \"mango\"]\n",
        "newlist = []\n",
        "\n",
        "for i in range(0, len(fruits)-1):\n",
        "  if i >= 2 and i<=4:\n",
        "    newlist.append(fruits[i])\n",
        "newlist"
      ],
      "metadata": {
        "colab": {
          "base_uri": "https://localhost:8080/"
        },
        "id": "bN5ce4sjJ5hn",
        "outputId": "78fb750b-805f-4311-84c4-df76b719d49d"
      },
      "execution_count": 63,
      "outputs": [
        {
          "output_type": "execute_result",
          "data": {
            "text/plain": [
              "['cherry', 'kiwi']"
            ]
          },
          "metadata": {},
          "execution_count": 63
        }
      ]
    },
    {
      "cell_type": "markdown",
      "source": [
        "\n",
        "\n",
        "---\n",
        "\n"
      ],
      "metadata": {
        "id": "TPspLkEuiGCa"
      }
    },
    {
      "cell_type": "markdown",
      "source": [
        "# **Ex2**\n",
        "\n",
        "\n",
        "Desarrollar un algoritmo que gestione las entradas y salidas de una cisterna existente en una finca agrícola que gestiona sus recusos hídricos. La cisterna tiene un volumen determinado inical\n",
        "\n"
      ],
      "metadata": {
        "id": "Sbg0hu53UPXG"
      }
    },
    {
      "cell_type": "code",
      "source": [
        "def depositoCisterna(inicial, s):\n",
        "    \"\"\"\n",
        "    s es un string formado por los\n",
        "    caracteres + y - que representa\n",
        "    la evolucion de los días de lluvia.\n",
        "    \"+\" indica que ese día ha llovido y las necesidades\n",
        "    hídricas de la finca quedan satisfechas\n",
        "    \"-\" indica que la bomba ha sacado de la cisterna\n",
        "    las necesidades hídricas de ese día en la finca\n",
        "\n",
        "    Retorna la capacidad que resta de la cisterna\n",
        "\n",
        "    >>> depositoCisterna(4, '++++--+')\n",
        "    7\n",
        "    >>> depositoCisterna(3,'++++++++++----+')\n",
        "    11\n",
        "    >>> depositoCisterna(0,'+-++--+++---++--')\n",
        "    0\n",
        "    \"\"\"\n",
        "    #### completa el codi i afegeix docstrings al doctest\n",
        "\n",
        "    cont = inicial\n",
        "\n",
        "\n",
        "    for elem in s:\n",
        "\n",
        "        if elem == '+' : cont = cont +1\n",
        "        else :\n",
        "          cont = cont -1\n",
        "\n",
        "\n",
        "    return cont\n",
        "\n",
        "resto = depositoCisterna(4, '++++--+')\n",
        "print(resto)\n",
        "\n",
        "resto = depositoCisterna(3,'++++++++++----+')\n",
        "print(resto)\n",
        "\n",
        "resto = depositoCisterna(0,'+-++--+++---++--')\n",
        "print(resto)\n",
        "\n"
      ],
      "metadata": {
        "colab": {
          "base_uri": "https://localhost:8080/"
        },
        "id": "knQqMokcUVUw",
        "outputId": "5d5c35c3-7eca-4b38-c0a7-0c0a44f81d85"
      },
      "execution_count": 74,
      "outputs": [
        {
          "output_type": "stream",
          "name": "stdout",
          "text": [
            "7\n",
            "10\n",
            "0\n"
          ]
        }
      ]
    },
    {
      "cell_type": "markdown",
      "source": [
        "\n",
        "\n",
        "---\n",
        "\n"
      ],
      "metadata": {
        "id": "yw_fEW7CiZt_"
      }
    },
    {
      "cell_type": "markdown",
      "source": [
        "# **Ex3**\n",
        "Imagínate poder manejar un tractor con solo unos simples comandos que determinen el avance de un vehículo agrícola únicamente indicando su orden (norte, sur, este y oeste) de movimientos\n",
        "\n",
        "    Dado un string 'line' formado con\n",
        "    las letras n, s, e y o,\n",
        "    retorna True si y solo si el tractor\n",
        "    termina en la posicion de salida.\n",
        "    >>> action('nseo')\n",
        "    True\n",
        "    >>> action('nen')\n",
        "    False"
      ],
      "metadata": {
        "id": "DkwjM6QNO6zL"
      }
    },
    {
      "cell_type": "code",
      "source": [
        "def action(line):\n",
        "    \"\"\"\n",
        "    Dado un string 'line' formado con\n",
        "    las letras n, s, e y o,\n",
        "    retorna True si y solo si el tractor\n",
        "    termina en la posicion de salida.\n",
        "    Cada letra determina un movimiento en\n",
        "    una coordenada.\n",
        "    Ejemplo:\n",
        "    >>> action('nseo')\n",
        "    True\n",
        "    >>> action('nen')\n",
        "    False\n",
        "    \"\"\"\n",
        "    mv = 0\n",
        "    mh = 0\n",
        "\n",
        "    for elem in line:\n",
        "        if elem == 'n':\n",
        "          mv = mv + 1\n",
        "          print (elem, \": mv \", mv)\n",
        "        if elem == 's':\n",
        "          mv = mv - 1\n",
        "          print (elem, \": mv \", mv)\n",
        "        if elem == 'e':\n",
        "          mh = mh + 1\n",
        "          print (elem, \": mh \", mh)\n",
        "        if elem == 'o':\n",
        "          mh = mh - 1\n",
        "          print (elem, \": mh \", mh)\n",
        "\n",
        "    return (mv == 0 and mh == 0)\n",
        "\n",
        "ret = action('nseo')\n",
        "print(ret)\n",
        "\n",
        "ret = action('nen')\n",
        "print(ret)"
      ],
      "metadata": {
        "colab": {
          "base_uri": "https://localhost:8080/"
        },
        "id": "Dysax_04Pu2R",
        "outputId": "80745d79-4a14-412e-fdc9-c2286c461a4f"
      },
      "execution_count": 66,
      "outputs": [
        {
          "output_type": "stream",
          "name": "stdout",
          "text": [
            "n : mv  1\n",
            "s : mv  0\n",
            "e : mh  1\n",
            "o : mh  0\n",
            "True\n",
            "n : mv  1\n",
            "e : mh  1\n",
            "n : mv  2\n",
            "False\n"
          ]
        }
      ]
    },
    {
      "cell_type": "markdown",
      "source": [
        "\n",
        "\n",
        "---\n",
        "\n"
      ],
      "metadata": {
        "id": "VvQsxN1wicS9"
      }
    },
    {
      "cell_type": "markdown",
      "source": [
        "# **Ej4**\n",
        "Dibuja una finca de un terreno agrícola indicando la forma del cuadrado vacío"
      ],
      "metadata": {
        "id": "uypmZkPJiZuz"
      }
    },
    {
      "cell_type": "code",
      "source": [
        "def empty_square(n):\n",
        "    '''\n",
        "    Dado un número entero n > 2,\n",
        "    dibuja una finca en forma de cuadrado vacío de dimensión n vacío.\n",
        "    >>> empty_square(3)\n",
        "    ***\n",
        "    * *\n",
        "    ***\n",
        "    >>> empty_square(5)\n",
        "    *****\n",
        "    *   *\n",
        "    *   *\n",
        "    *   *\n",
        "    *****\n",
        "    '''\n",
        "    s=\"\"\n",
        "\n",
        "    for elem in range(n):\n",
        "        if (elem==0) or (elem== n-1):\n",
        "            print(\"*\"*n)\n",
        "\n",
        "        else:\n",
        "            print(\"*\"+ \" \"*(n-2)+\"*\")\n",
        "    #print(s)\n",
        "\n",
        "empty_square(3)\n",
        "\n",
        "empty_square(5)\n",
        "\n",
        "empty_square(8)"
      ],
      "metadata": {
        "colab": {
          "base_uri": "https://localhost:8080/"
        },
        "id": "-LUm6urcZXR4",
        "outputId": "d02bc82a-8f6d-417e-e68d-0590079762c7"
      },
      "execution_count": 75,
      "outputs": [
        {
          "output_type": "stream",
          "name": "stdout",
          "text": [
            "***\n",
            "* *\n",
            "***\n",
            "*****\n",
            "*   *\n",
            "*   *\n",
            "*   *\n",
            "*****\n",
            "********\n",
            "*      *\n",
            "*      *\n",
            "*      *\n",
            "*      *\n",
            "*      *\n",
            "*      *\n",
            "********\n"
          ]
        }
      ]
    },
    {
      "cell_type": "markdown",
      "source": [
        "# **Diccionarios**\n",
        "\n",
        "ejemplos sobre diccionarios\n",
        "\n"
      ],
      "metadata": {
        "id": "8SSB3QS2hpaf"
      }
    },
    {
      "cell_type": "markdown",
      "source": [
        "\n",
        "\n",
        "---\n",
        "\n"
      ],
      "metadata": {
        "id": "66bxOeskiSoP"
      }
    },
    {
      "cell_type": "code",
      "source": [
        "# Crear el diccionario de inventario\n",
        "inventario = {\n",
        "    \"manzanas\": 50,\n",
        "    \"plátanos\": 30,\n",
        "    \"naranjas\": 40,\n",
        "    \"peras\": 25\n",
        "}\n",
        "\n",
        "# 1. Agregar 10 mangos al inventario\n",
        "inventario[\"mangos\"] = 10\n",
        "\n",
        "# Imprimir el inventario después de agregar mangos\n",
        "print(\"Inventario después de agregar mangos:\", inventario)\n",
        "\n",
        "# 2. Eliminar las peras del inventario\n",
        "del inventario[\"peras\"]\n",
        "\n",
        "# Imprimir el inventario después de eliminar peras\n",
        "print(\"Inventario después de eliminar peras:\", inventario)\n",
        "\n",
        "# 3. Actualizar la cantidad de naranjas en el inventario a 50\n",
        "inventario[\"naranjas\"] = 50\n",
        "\n",
        "# Imprimir el inventario después de actualizar naranjas\n",
        "print(\"Inventario después de actualizar naranjas:\", inventario)"
      ],
      "metadata": {
        "colab": {
          "base_uri": "https://localhost:8080/"
        },
        "id": "92NIDaMVhsbD",
        "outputId": "b2b05331-8ae6-4ea6-e286-249e0d6040e3"
      },
      "execution_count": 77,
      "outputs": [
        {
          "output_type": "stream",
          "name": "stdout",
          "text": [
            "Inventario después de agregar mangos: {'manzanas': 50, 'plátanos': 30, 'naranjas': 40, 'peras': 25, 'mangos': 10}\n",
            "Inventario después de eliminar peras: {'manzanas': 50, 'plátanos': 30, 'naranjas': 40, 'mangos': 10}\n",
            "Inventario después de actualizar naranjas: {'manzanas': 50, 'plátanos': 30, 'naranjas': 50, 'mangos': 10}\n"
          ]
        }
      ]
    },
    {
      "cell_type": "markdown",
      "source": [
        "\n",
        "\n",
        "---\n",
        "\n"
      ],
      "metadata": {
        "id": "ZGsCxWQdiD3A"
      }
    },
    {
      "cell_type": "markdown",
      "source": [
        "# **Ej5**\n",
        "En un Centro de control de plagas se desea controlar la carga de enfermedades como mosca de la fruta en cítricos. Por este motivo se registra en un diccionario el nombre de la finca y la carga  detectada después de hacer una prueba. Este valor es númerico\n",
        "\n",
        "Diseña una función que, dado este diccionario de entrada y un valor límite de carga, devuelva una lista ordenada con los nombres de las fincas que superan el valor límite. En caso de que ninguna persona supere el valor\n",
        "límite, la función debe devolver la lista vacía.\n",
        "\n"
      ],
      "metadata": {
        "id": "zQu0fizdf34Y"
      }
    },
    {
      "cell_type": "code",
      "source": [
        "def plagas(d_enfermedades, limite):\n",
        "\n",
        "    '''\n",
        "    Parámetros\n",
        "    ----------\n",
        "    d_enfermedades  : dict\n",
        "               Diccionario con los nombres de las fincas como claves (string)\n",
        "               y la carga de enfermedades de la fincar (int)\n",
        "\n",
        "    limite : int\n",
        "             límite de carga utilizado para filtrar\n",
        "\n",
        "    Retorna\n",
        "    -------\n",
        "    l_result : list\n",
        "               Lista ordenada alfabéticatemente con los nombres de las fincas\n",
        "               que superan el límite de carga.\n",
        "\n",
        "\n",
        "    Ejemplos Públicos\n",
        "    -----------------\n",
        "\n",
        "    >>> d_enfermedades = {'finca la nova': 5000,\n",
        "    ...            'finca de l'avi Pere: 6000,\n",
        "    ...             'finca de l'olivereta': 3261,\n",
        "    ...             'Ca la Pepa': 2348,\n",
        "    ...             'Del Mas': 6150}\n",
        "    >>> plagas (d_malaties, 3500)\n",
        "    >>> plagas (d_virus, 9500)\n",
        "    []\n",
        "    '''\n",
        "\n",
        "    l_result=[]\n",
        "\n",
        "    for clau in d_enfermedades:\n",
        "\n",
        "        if d_enfermedades[clau] > limite:\n",
        "\n",
        "            l_result.append(clau)\n",
        "\n",
        "    l_result.sort()\n",
        "\n",
        "    return l_result\n",
        "\n",
        "d_enfermedades = {'finca la nova': 5000,\n",
        "    'finca de l\\'avi Pere': 6000,\n",
        "    'finca de l\\'olivereta': 3261,\n",
        "    'Ca la Pepa': 2348,\n",
        "    'Del Mas': 6150}\n",
        "\n",
        "ret = plagas (d_enfermedades, 3500)\n",
        "print(ret)\n",
        "\n",
        "\n",
        "ret = plagas (d_enfermedades, 4999)\n",
        "print(ret)\n",
        "\n",
        "ret = plagas (d_enfermedades, 5000)\n",
        "print(ret)\n",
        "\n",
        "ret = plagas (d_enfermedades, 9500)\n",
        "print(ret)"
      ],
      "metadata": {
        "colab": {
          "base_uri": "https://localhost:8080/"
        },
        "id": "yIzPoZDcf6fH",
        "outputId": "c7d17e8c-aefa-4c98-c1e8-5e70d3f78ebf"
      },
      "execution_count": 82,
      "outputs": [
        {
          "output_type": "stream",
          "name": "stdout",
          "text": [
            "['Del Mas', \"finca de l'avi Pere\", 'finca la nova']\n",
            "['Del Mas', \"finca de l'avi Pere\", 'finca la nova']\n",
            "['Del Mas', \"finca de l'avi Pere\"]\n",
            "[]\n"
          ]
        }
      ]
    },
    {
      "cell_type": "markdown",
      "source": [
        "# **Ej5** - Versión actualizada con un vector de diccionarios"
      ],
      "metadata": {
        "id": "LiNhBQ14jsM5"
      }
    },
    {
      "cell_type": "code",
      "source": [
        "def plagas(finques, limite):\n",
        "\n",
        "    '''\n",
        "    Parámetros\n",
        "    ----------\n",
        "    fincas  : vector de diccionarios\n",
        "               Diccionario con los nombres de las fincas como claves (string)\n",
        "               y la carga de enfermedades de la fincar (int)\n",
        "\n",
        "    limite : int\n",
        "             límite de carga utilizado para filtrar\n",
        "\n",
        "    Retorna\n",
        "    -------\n",
        "    l_result : list\n",
        "               Lista ordenada alfabéticatemente con los nombres de las fincas\n",
        "               que superan el límite de carga.\n",
        "\n",
        "\n",
        "    Ejemplos Públicos\n",
        "    -----------------\n",
        "\n",
        "    >>> fincas = [{'nombre': 'La nova', 'carga': 5000,\n",
        "    ...            'nombre': 'finca avi Pere , 'carga':6000,\n",
        "    ...             'nombre': 'Olivereta' , 'carga': 3261,\n",
        "    ...             'nombre': 'Ca la pepa', 'carga': 2348,\n",
        "    ...             'nombre': 'Mas del Bages', 'carga': 6150}\n",
        "    ...           ]\n",
        "    >>> plagas (fincas, 3500)\n",
        "    >>> plagas (fincas, 9500)\n",
        "    []\n",
        "    '''\n",
        "\n",
        "    l_result=[]\n",
        "\n",
        "    for finca in finques:\n",
        "        if finca['carga'] > limite:\n",
        "            l_result.append(finca)\n",
        "\n",
        "    l_result = sorted(l_result, key=lambda d: d['nombre'])\n",
        "    #l_result.sort()\n",
        "    return l_result\n",
        "\n",
        "fincas = [\n",
        "                {\n",
        "                  \"nombre\":\"La nova\",\n",
        "                  \"carga\": 5000,\n",
        "                  \"cultivo\": [\"blat\", \"ordi\"]\n",
        "                },\n",
        "                {\n",
        "                  \"nombre\":\"Finca avi Pere\",\n",
        "                  \"carga\": 6000,\n",
        "                  \"cultivo\": [\"blat\"]\n",
        "                },\n",
        "                {\n",
        "                    \"nombre\":\"Olivereta\",\n",
        "                    \"carga\": 3261,\n",
        "                    \"cultivo\": [\"olives\"]\n",
        "                },\n",
        "                {\n",
        "                    \"nombre\":\"Ca la Pepa\",\n",
        "                    \"carga\": 2348,\n",
        "                    \"cultivo\": [\"atmelles\"]\n",
        "                },\n",
        "                {\n",
        "                    \"nombre\":\"Mas del Bages\",\n",
        "                    \"carga\": 6150,\n",
        "                    \"cultivo\": [\"vinya\"]\n",
        "                }\n",
        "                ]\n",
        "\n",
        "print(\"0 => \")\n",
        "ret = plagas (fincas, 0)\n",
        "print(ret)\n",
        "\n",
        "print(\"3500 => \")\n",
        "ret = plagas (fincas, 3500)\n",
        "print(ret)\n",
        "\n",
        "print(\"4999 => \")\n",
        "ret = plagas (fincas, 4999)\n",
        "print(ret)\n",
        "\n",
        "print(\"5000 => \")\n",
        "ret = malalties (fincas, 5000)\n",
        "print(ret)\n",
        "\n",
        "print(\"9500 => \")\n",
        "ret = malalties (fincas, 9500)\n",
        "print(ret)"
      ],
      "metadata": {
        "colab": {
          "base_uri": "https://localhost:8080/"
        },
        "id": "qO6tV2scWcRv",
        "outputId": "b01dabdf-6552-4735-c470-4219d3c19310"
      },
      "execution_count": 81,
      "outputs": [
        {
          "output_type": "stream",
          "name": "stdout",
          "text": [
            "0 => \n",
            "[{'nombre': 'Ca la Pepa', 'carga': 2348, 'cultivo': ['atmelles']}, {'nombre': 'Finca avi Pere', 'carga': 6000, 'cultivo': ['blat']}, {'nombre': 'La nova', 'carga': 5000, 'cultivo': ['blat', 'ordi']}, {'nombre': 'Mas del Bages', 'carga': 6150, 'cultivo': ['vinya']}, {'nombre': 'Olivereta', 'carga': 3261, 'cultivo': ['olives']}]\n",
            "3500 => \n",
            "[{'nombre': 'Finca avi Pere', 'carga': 6000, 'cultivo': ['blat']}, {'nombre': 'La nova', 'carga': 5000, 'cultivo': ['blat', 'ordi']}, {'nombre': 'Mas del Bages', 'carga': 6150, 'cultivo': ['vinya']}]\n",
            "4999 => \n",
            "[{'nombre': 'Finca avi Pere', 'carga': 6000, 'cultivo': ['blat']}, {'nombre': 'La nova', 'carga': 5000, 'cultivo': ['blat', 'ordi']}, {'nombre': 'Mas del Bages', 'carga': 6150, 'cultivo': ['vinya']}]\n",
            "5000 => \n",
            "[{'nombre': 'Finca avi Pere', 'carga': 6000, 'cultivo': ['blat']}, {'nombre': 'Mas del Bages', 'carga': 6150, 'cultivo': ['vinya']}]\n",
            "9500 => \n",
            "[]\n"
          ]
        }
      ]
    }
  ]
}